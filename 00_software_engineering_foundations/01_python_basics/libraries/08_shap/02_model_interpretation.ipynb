{
 "cells": [
  {
   "cell_type": "markdown",
   "id": "5fc99cf8",
   "metadata": {},
   "source": [
    "# 02 model interpretation"
   ]
  }
 ],
 "metadata": {},
 "nbformat": 4,
 "nbformat_minor": 5
}
