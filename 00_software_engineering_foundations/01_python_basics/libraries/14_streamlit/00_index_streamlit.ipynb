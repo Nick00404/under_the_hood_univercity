{
 "cells": [
  {
   "cell_type": "markdown",
   "id": "d49a9c0d",
   "metadata": {},
   "source": [
    "\n",
    "#### **01_dashboard_intro.ipynb**\n",
    "1. **Introduction to Streamlit**  \n",
    "   - What is Streamlit?  \n",
    "   - Key features and advantages of Streamlit  \n",
    "   - Use cases for building web apps with Streamlit  \n",
    "2. **Setting Up Streamlit**  \n",
    "   - Installation and setup  \n",
    "   - Basic structure of a Streamlit app  \n",
    "   - Running a Streamlit app  \n",
    "3. **Streamlit Widgets and Components**  \n",
    "   - Overview of widgets (buttons, sliders, checkboxes, etc.)  \n",
    "   - How to interact with widgets  \n",
    "   - Managing user input  \n",
    "4. **Displaying Data with Streamlit**  \n",
    "   - Displaying text, images, and tables  \n",
    "   - Visualizing data with Streamlit (charts, graphs)  \n",
    "   - Using `st.write()`, `st.plotly_chart()`, `st.table()`  \n",
    "5. **Streamlit Layouts**  \n",
    "   - Creating layouts with columns and containers  \n",
    "   - Structuring app with multiple pages  \n",
    "   - Using `st.sidebar()` and `st.container()`\n",
    "6. **Advanced Streamlit Features**  \n",
    "   - Custom styling and theming  \n",
    "   - Caching data to improve performance  \n",
    "   - Using external APIs or models in Streamlit  \n",
    "7. **Deploying a Streamlit App**  \n",
    "   - Deploying apps with Streamlit sharing  \n",
    "   - Deploying on other platforms (Heroku, AWS, etc.)  \n",
    "   - Sharing and collaboration options\n",
    "\n",
    "#### **02_interactive_visuals.ipynb**\n",
    "1. **Introduction to Interactive Visuals**  \n",
    "   - What makes a visualization interactive?  \n",
    "   - Types of interactive visualizations in Streamlit  \n",
    "2. **Integrating Plotly with Streamlit**  \n",
    "   - Overview of Plotly for interactive charts  \n",
    "   - Creating and displaying Plotly charts with Streamlit  \n",
    "   - Customizing Plotly charts for user interaction  \n",
    "3. **Working with Maps**  \n",
    "   - Displaying geospatial data with `st.map()`  \n",
    "   - Customizing maps with markers and layers  \n",
    "4. **Interactive DataFrames with Streamlit**  \n",
    "   - Displaying and sorting DataFrames interactively  \n",
    "   - Filtering DataFrames with widgets  \n",
    "   - Using `st.dataframe()` and `st.table()` effectively  \n",
    "5. **Interactive Widgets for Visuals**  \n",
    "   - Using sliders, buttons, and checkboxes for user control  \n",
    "   - Interactive filtering and data exploration  \n",
    "6. **Advanced Visualization Techniques**  \n",
    "   - Integrating other visualization libraries (e.g., Altair, Matplotlib)  \n",
    "   - Dynamic updates based on user input  \n",
    "   - Real-time data visualization\n"
   ]
  },
  {
   "cell_type": "markdown",
   "id": "193bd83d",
   "metadata": {},
   "source": []
  }
 ],
 "metadata": {
  "language_info": {
   "name": "python"
  }
 },
 "nbformat": 4,
 "nbformat_minor": 5
}
