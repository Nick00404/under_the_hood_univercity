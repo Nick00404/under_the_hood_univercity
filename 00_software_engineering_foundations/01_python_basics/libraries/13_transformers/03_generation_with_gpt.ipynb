{
 "cells": [
  {
   "cell_type": "markdown",
   "id": "11506e74",
   "metadata": {},
   "source": [
    "# 03 generation with gpt"
   ]
  }
 ],
 "metadata": {},
 "nbformat": 4,
 "nbformat_minor": 5
}
