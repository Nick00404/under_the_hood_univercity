{
 "cells": [
  {
   "cell_type": "markdown",
   "id": "55ae852e",
   "metadata": {},
   "source": [
    "# 02 optimization examples"
   ]
  }
 ],
 "metadata": {},
 "nbformat": 4,
 "nbformat_minor": 5
}
