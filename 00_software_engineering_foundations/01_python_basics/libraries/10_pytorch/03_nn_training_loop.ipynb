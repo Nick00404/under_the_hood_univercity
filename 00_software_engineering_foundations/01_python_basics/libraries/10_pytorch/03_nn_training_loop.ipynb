{
 "cells": [
  {
   "cell_type": "markdown",
   "id": "541e7e2f",
   "metadata": {},
   "source": [
    "# 03 nn training loop"
   ]
  }
 ],
 "metadata": {},
 "nbformat": 4,
 "nbformat_minor": 5
}
