{
 "cells": [
  {
   "cell_type": "markdown",
   "id": "21f447fa",
   "metadata": {},
   "source": [
    "# 01 seaborn visualization"
   ]
  }
 ],
 "metadata": {},
 "nbformat": 4,
 "nbformat_minor": 5
}
