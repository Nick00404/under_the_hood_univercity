{
 "cells": [
  {
   "cell_type": "markdown",
   "id": "f7a2f865",
   "metadata": {},
   "source": [
    "\n",
    "### **21_evidently**\n",
    "\n",
    "#### **01_data_drift_monitoring.ipynb**\n",
    "1. **Introduction to Evidently**  \n",
    "   - What is Evidently?  \n",
    "   - Key features and benefits of Evidently for monitoring ML models  \n",
    "   - Understanding data drift and model drift  \n",
    "2. **Setting Up Evidently**  \n",
    "   - Installation and environment setup  \n",
    "   - Integrating Evidently with your machine learning workflow  \n",
    "3. **Monitoring Data Drift**  \n",
    "   - What is data drift and why is it important?  \n",
    "   - Detecting data drift with Evidently  \n",
    "   - Visualizing drift metrics and insights  \n",
    "4. **Creating Drift Reports**  \n",
    "   - Generating a drift report with Evidently  \n",
    "   - Analyzing the visualizations for drift detection  \n",
    "   - Configuring and customizing drift reports  \n",
    "5. **Handling Data Drift**  \n",
    "   - Approaches for mitigating data drift  \n",
    "   - Model retraining strategies when data drift is detected  \n",
    "   - Automating data drift monitoring in production systems  \n",
    "6. **Extending Drift Monitoring**  \n",
    "   - Monitoring drift across different features and groups  \n",
    "   - Combining Evidently with other monitoring tools (e.g., MLflow)  \n",
    "   - Best practices for maintaining model performance over time\n"
   ]
  },
  {
   "cell_type": "markdown",
   "id": "d3c42d5b",
   "metadata": {},
   "source": []
  }
 ],
 "metadata": {
  "language_info": {
   "name": "python"
  }
 },
 "nbformat": 4,
 "nbformat_minor": 5
}
