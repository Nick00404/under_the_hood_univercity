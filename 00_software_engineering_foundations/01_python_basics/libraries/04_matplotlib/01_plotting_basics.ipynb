{
 "cells": [
  {
   "cell_type": "markdown",
   "id": "0557d7c6",
   "metadata": {},
   "source": [
    "# 01 plotting basics"
   ]
  }
 ],
 "metadata": {},
 "nbformat": 4,
 "nbformat_minor": 5
}
