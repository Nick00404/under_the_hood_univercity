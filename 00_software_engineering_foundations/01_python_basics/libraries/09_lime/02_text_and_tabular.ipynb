{
 "cells": [
  {
   "cell_type": "markdown",
   "id": "910cf5ac",
   "metadata": {},
   "source": [
    "# 02 text and tabular"
   ]
  }
 ],
 "metadata": {},
 "nbformat": 4,
 "nbformat_minor": 5
}
