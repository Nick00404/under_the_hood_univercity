{
 "cells": [
  {
   "cell_type": "markdown",
   "id": "8b622fbe",
   "metadata": {},
   "source": [
    "# 02 array operations"
   ]
  }
 ],
 "metadata": {},
 "nbformat": 4,
 "nbformat_minor": 5
}
