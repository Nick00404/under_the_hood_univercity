{
 "cells": [
  {
   "cell_type": "markdown",
   "id": "77832f9e",
   "metadata": {},
   "source": [
    "# 02 model registry"
   ]
  }
 ],
 "metadata": {},
 "nbformat": 4,
 "nbformat_minor": 5
}
