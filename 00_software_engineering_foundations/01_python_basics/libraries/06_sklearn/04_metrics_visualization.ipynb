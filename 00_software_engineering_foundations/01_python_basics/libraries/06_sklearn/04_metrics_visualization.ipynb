{
 "cells": [
  {
   "cell_type": "markdown",
   "id": "85355d6c",
   "metadata": {},
   "source": [
    "# 04 metrics visualization"
   ]
  }
 ],
 "metadata": {},
 "nbformat": 4,
 "nbformat_minor": 5
}
