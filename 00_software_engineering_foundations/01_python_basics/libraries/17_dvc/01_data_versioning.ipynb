{
 "cells": [
  {
   "cell_type": "markdown",
   "id": "582f5018",
   "metadata": {},
   "source": [
    "# 01 data versioning"
   ]
  }
 ],
 "metadata": {},
 "nbformat": 4,
 "nbformat_minor": 5
}
