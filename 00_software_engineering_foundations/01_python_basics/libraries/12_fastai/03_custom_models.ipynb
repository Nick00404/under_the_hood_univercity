{
 "cells": [
  {
   "cell_type": "markdown",
   "id": "23cb3950",
   "metadata": {},
   "source": [
    "# 03 custom models"
   ]
  }
 ],
 "metadata": {},
 "nbformat": 4,
 "nbformat_minor": 5
}
