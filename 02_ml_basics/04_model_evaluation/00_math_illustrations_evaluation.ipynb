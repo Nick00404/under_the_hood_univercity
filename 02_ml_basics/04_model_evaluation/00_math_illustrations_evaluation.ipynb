{
 "cells": [
  {
   "cell_type": "markdown",
   "id": "adb0c2a5",
   "metadata": {},
   "source": [
    "# 🧮 Math Illustrations Evaluation\n",
    "\n",
    "This notebook contains the mathematical background relevant to this module."
   ]
  },
  {
   "cell_type": "markdown",
   "id": "61a8a276",
   "metadata": {},
   "source": [
    "## 📘 Table of Contents\n",
    "\n",
    "- [Precision, Recall, F1](#Precision,-Recall,-F1)\n",
    "- [AUC-ROC Area](#AUC-ROC-Area)\n",
    "- [Cross Validation Math](#Cross-Validation-Math)\n",
    "- [Bias-Variance Decomposition](#Bias-Variance-Decomposition)\n",
    "- [Statistical Hypothesis Tests](#Statistical-Hypothesis-Tests)"
   ]
  },
  {
   "cell_type": "markdown",
   "id": "d2bee8cc",
   "metadata": {},
   "source": [
    "## 🏷️ Tags\n",
    "\n",
    "`math` `illustration` `foundations`"
   ]
  }
 ],
 "metadata": {},
 "nbformat": 4,
 "nbformat_minor": 5
}
