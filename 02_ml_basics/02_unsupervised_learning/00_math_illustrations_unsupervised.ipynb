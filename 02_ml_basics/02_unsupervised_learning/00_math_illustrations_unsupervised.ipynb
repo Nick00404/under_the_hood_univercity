{
 "cells": [
  {
   "cell_type": "markdown",
   "id": "198a11d5",
   "metadata": {},
   "source": [
    "# 🧮 Math Illustrations Unsupervised\n",
    "\n",
    "This notebook contains the mathematical background relevant to this module."
   ]
  },
  {
   "cell_type": "markdown",
   "id": "cbe6f9da",
   "metadata": {},
   "source": [
    "## 📘 Table of Contents\n",
    "\n",
    "- [K-Means and Distance Minimization](#K-Means-and-Distance-Minimization)\n",
    "- [Hierarchical Clustering Linkage](#Hierarchical-Clustering-Linkage)\n",
    "- [PCA Covariance and Eigenvectors](#PCA-Covariance-and-Eigenvectors)\n",
    "- [Autoencoder Reconstruction Loss](#Autoencoder-Reconstruction-Loss)\n",
    "- [UMAP & t-SNE Manifold Projections](#UMAP-&-t-SNE-Manifold-Projections)"
   ]
  },
  {
   "cell_type": "markdown",
   "id": "55b44f7f",
   "metadata": {},
   "source": [
    "## 🏷️ Tags\n",
    "\n",
    "`math` `illustration` `foundations`"
   ]
  }
 ],
 "metadata": {},
 "nbformat": 4,
 "nbformat_minor": 5
}
