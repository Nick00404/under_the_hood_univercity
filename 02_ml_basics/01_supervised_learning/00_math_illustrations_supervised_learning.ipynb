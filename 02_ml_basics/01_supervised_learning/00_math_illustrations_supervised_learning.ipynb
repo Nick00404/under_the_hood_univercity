{
 "cells": [
  {
   "cell_type": "markdown",
   "id": "ae1be76e",
   "metadata": {},
   "source": [
    "# 🧮 Math Illustrations Supervised Learning\n",
    "\n",
    "This notebook contains the mathematical background relevant to this module."
   ]
  },
  {
   "cell_type": "markdown",
   "id": "6b9209ca",
   "metadata": {},
   "source": [
    "## 📘 Table of Contents\n",
    "\n",
    "- [Linear Regression Cost & Gradient](#Linear-Regression-Cost-&-Gradient)\n",
    "- [Logistic Regression and Sigmoid](#Logistic-Regression-and-Sigmoid)\n",
    "- [Decision Boundaries](#Decision-Boundaries)\n",
    "- [L1 vs L2 Regularization](#L1-vs-L2-Regularization)\n",
    "- [Bayesian Probabilities](#Bayesian-Probabilities)"
   ]
  },
  {
   "cell_type": "markdown",
   "id": "f3d58902",
   "metadata": {},
   "source": [
    "## 🏷️ Tags\n",
    "\n",
    "`math` `illustration` `foundations`"
   ]
  }
 ],
 "metadata": {},
 "nbformat": 4,
 "nbformat_minor": 5
}
