{
 "cells": [
  {
   "cell_type": "markdown",
   "id": "c683a0bf",
   "metadata": {},
   "source": [
    "# 🧮 Math Illustrations Rl\n",
    "\n",
    "This notebook contains the mathematical background relevant to this module."
   ]
  },
  {
   "cell_type": "markdown",
   "id": "405d495b",
   "metadata": {},
   "source": [
    "## 📘 Table of Contents\n",
    "\n",
    "- [Bellman Equations](#Bellman-Equations)\n",
    "- [Q-Learning Update Rule](#Q-Learning-Update-Rule)\n",
    "- [Policy Gradient Theorem](#Policy-Gradient-Theorem)\n",
    "- [Exploration Functions](#Exploration-Functions)\n",
    "- [Advantage and TD Error](#Advantage-and-TD-Error)"
   ]
  },
  {
   "cell_type": "markdown",
   "id": "63f9cf3d",
   "metadata": {},
   "source": [
    "## 🏷️ Tags\n",
    "\n",
    "`math` `illustration` `foundations`"
   ]
  }
 ],
 "metadata": {},
 "nbformat": 4,
 "nbformat_minor": 5
}
