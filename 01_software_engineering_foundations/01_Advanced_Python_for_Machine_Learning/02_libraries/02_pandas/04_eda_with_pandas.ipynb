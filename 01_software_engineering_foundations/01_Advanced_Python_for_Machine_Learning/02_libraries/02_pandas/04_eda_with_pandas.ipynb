{
 "cells": [
  {
   "cell_type": "markdown",
   "id": "e23e3f3b",
   "metadata": {},
   "source": [
    "# 04 eda with pandas"
   ]
  }
 ],
 "metadata": {},
 "nbformat": 4,
 "nbformat_minor": 5
}
