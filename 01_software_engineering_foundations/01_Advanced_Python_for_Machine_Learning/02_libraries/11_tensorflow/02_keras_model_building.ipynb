{
 "cells": [
  {
   "cell_type": "markdown",
   "id": "2cf92f5b",
   "metadata": {},
   "source": [
    "# 02 keras model building"
   ]
  }
 ],
 "metadata": {},
 "nbformat": 4,
 "nbformat_minor": 5
}
