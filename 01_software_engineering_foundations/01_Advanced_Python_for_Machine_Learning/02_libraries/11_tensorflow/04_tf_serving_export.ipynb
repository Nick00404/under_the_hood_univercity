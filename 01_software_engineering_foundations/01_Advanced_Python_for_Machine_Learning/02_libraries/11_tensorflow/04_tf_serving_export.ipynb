{
 "cells": [
  {
   "cell_type": "markdown",
   "id": "15d96ed8",
   "metadata": {},
   "source": [
    "# 04 tf serving export"
   ]
  }
 ],
 "metadata": {},
 "nbformat": 4,
 "nbformat_minor": 5
}
