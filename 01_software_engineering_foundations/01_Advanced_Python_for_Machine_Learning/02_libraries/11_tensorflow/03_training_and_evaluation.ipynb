{
 "cells": [
  {
   "cell_type": "markdown",
   "id": "dc2b5800",
   "metadata": {},
   "source": [
    "# 03 training and evaluation"
   ]
  }
 ],
 "metadata": {},
 "nbformat": 4,
 "nbformat_minor": 5
}
