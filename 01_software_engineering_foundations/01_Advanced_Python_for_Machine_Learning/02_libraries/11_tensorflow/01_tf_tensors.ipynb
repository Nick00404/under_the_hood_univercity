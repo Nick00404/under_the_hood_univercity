{
 "cells": [
  {
   "cell_type": "markdown",
   "id": "fa7df1e6",
   "metadata": {},
   "source": [
    "# 01 tf tensors"
   ]
  }
 ],
 "metadata": {},
 "nbformat": 4,
 "nbformat_minor": 5
}
