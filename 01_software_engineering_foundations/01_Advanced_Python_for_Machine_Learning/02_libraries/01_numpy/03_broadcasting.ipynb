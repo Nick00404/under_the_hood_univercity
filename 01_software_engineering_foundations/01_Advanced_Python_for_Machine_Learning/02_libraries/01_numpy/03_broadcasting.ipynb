{
 "cells": [
  {
   "cell_type": "markdown",
   "id": "6c8a558a",
   "metadata": {},
   "source": [
    "# 03 broadcasting"
   ]
  }
 ],
 "metadata": {},
 "nbformat": 4,
 "nbformat_minor": 5
}
