{
 "cells": [
  {
   "cell_type": "markdown",
   "id": "dc6f482f",
   "metadata": {},
   "source": [
    "# 05 numpy in ml"
   ]
  }
 ],
 "metadata": {},
 "nbformat": 4,
 "nbformat_minor": 5
}
