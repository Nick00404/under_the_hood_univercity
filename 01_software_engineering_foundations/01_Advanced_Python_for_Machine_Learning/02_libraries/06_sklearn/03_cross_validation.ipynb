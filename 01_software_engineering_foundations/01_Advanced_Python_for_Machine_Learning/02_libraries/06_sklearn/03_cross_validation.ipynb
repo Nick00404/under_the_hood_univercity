{
 "cells": [
  {
   "cell_type": "markdown",
   "id": "18f20e4f",
   "metadata": {},
   "source": [
    "# 03 cross validation"
   ]
  }
 ],
 "metadata": {},
 "nbformat": 4,
 "nbformat_minor": 5
}
