{
 "cells": [
  {
   "cell_type": "markdown",
   "id": "587d283f",
   "metadata": {},
   "source": [
    "# 02 text classification"
   ]
  }
 ],
 "metadata": {},
 "nbformat": 4,
 "nbformat_minor": 5
}
