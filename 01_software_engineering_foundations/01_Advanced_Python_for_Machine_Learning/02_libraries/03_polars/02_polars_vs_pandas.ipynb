{
 "cells": [
  {
   "cell_type": "markdown",
   "id": "36073738",
   "metadata": {},
   "source": [
    "# 02 polars vs pandas"
   ]
  }
 ],
 "metadata": {},
 "nbformat": 4,
 "nbformat_minor": 5
}
