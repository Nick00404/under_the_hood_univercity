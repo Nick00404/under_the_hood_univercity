{
 "cells": [
  {
   "cell_type": "markdown",
   "id": "5fc65c13",
   "metadata": {},
   "source": [
    "# 02 transfer learning"
   ]
  }
 ],
 "metadata": {},
 "nbformat": 4,
 "nbformat_minor": 5
}
