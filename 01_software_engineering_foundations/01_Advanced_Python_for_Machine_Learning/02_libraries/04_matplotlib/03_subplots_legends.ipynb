{
 "cells": [
  {
   "cell_type": "markdown",
   "id": "7f57258d",
   "metadata": {},
   "source": [
    "# 03 subplots legends"
   ]
  }
 ],
 "metadata": {},
 "nbformat": 4,
 "nbformat_minor": 5
}
