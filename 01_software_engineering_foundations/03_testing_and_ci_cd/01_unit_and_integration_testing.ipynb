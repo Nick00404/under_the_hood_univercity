{
 "cells": [
  {
   "cell_type": "markdown",
   "id": "6fef7ec0",
   "metadata": {},
   "source": [
    "\n",
    "### **01_unit_and_integration_testing.ipynb**  \n",
    "1. **Testing Fundamentals**  \n",
    "   - Unit testing vs. integration testing in ML workflows  \n",
    "   - The testing pyramid approach for ML projects (unit → integration → system)  \n",
    "\n",
    "2. **Pytest Essentials**  \n",
    "   - Basic test discovery, writing tests, and using fixtures  \n",
    "   - Parametrization for testing multiple scenarios  \n",
    "   - Mocking dependencies like I/O, APIs, and stochastic behaviors  \n",
    "\n",
    "3. **Integration Testing**  \n",
    "   - Validating end-to-end ML pipelines (preprocessing → model training → evaluation)  \n",
    "   - Testing data integrity with `pandera` or `great-expectations`  \n",
    "   - Performance tests: latency, accuracy, and memory checks  \n",
    "\n",
    "---\n",
    "\n",
    "### **02_ci_cd_pipelines_for_ml.ipynb**  \n",
    "1. **CI/CD Core Concepts for ML**  \n",
    "   - Understanding the stages in CI/CD pipelines: lint → test → validate → train  \n",
    "   - The differences between Jenkins, GitLab CI, and GitHub Actions for ML projects  \n",
    "\n",
    "2. **GitHub Actions for ML Workflows**  \n",
    "   - Introduction to GitHub Actions (workflows, triggers, jobs, and steps)  \n",
    "   - Matrix builds for testing across multiple Python versions and operating systems  \n",
    "   - Caching dependencies and storing pipeline artifacts (e.g., models, metrics)  \n",
    "\n",
    "3. **ML-Specific Validation in CI/CD**  \n",
    "   - Implementing performance thresholds: Fail pipeline if model accuracy falls below X%  \n",
    "   - Data validation checks (schema validation, quality checks)  \n",
    "   - Security best practices: Secret scanning and audit logging in CI  \n",
    "\n",
    "4. **Advanced CI/CD Patterns**  \n",
    "   - Conditional triggers (e.g., run only if changes are made in certain files/folders)  \n",
    "   - Using parallel jobs to speed up CI/CD pipelines  \n",
    "   - Pre-commit hooks for linting, testing, and data validation as gatekeepers  \n",
    "\n",
    "---\n",
    "\n",
    "### **03_bash_for_ml_automation.ipynb** *(Optional)*  \n",
    "1. **Bash Essentials for ML Ops**  \n",
    "   - Using command-line tools for data operations (`jq`, `csvkit`, `xargs`)  \n",
    "   - Automating dataset transformations and batch processing with loops/conditionals  \n",
    "\n",
    "2. **Bash for CI/CD Automation**  \n",
    "   - Automating trigger pipelines on data or code changes  \n",
    "   - Log parsing to track errors and monitor pipeline performance  \n"
   ]
  },
  {
   "cell_type": "markdown",
   "id": "67b24674",
   "metadata": {},
   "source": []
  }
 ],
 "metadata": {
  "language_info": {
   "name": "python"
  }
 },
 "nbformat": 4,
 "nbformat_minor": 5
}
