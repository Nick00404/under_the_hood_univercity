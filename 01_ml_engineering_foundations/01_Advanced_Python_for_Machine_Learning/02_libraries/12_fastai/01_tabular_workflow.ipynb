{
 "cells": [
  {
   "cell_type": "markdown",
   "id": "6e8b8410",
   "metadata": {},
   "source": [
    "# 01 tabular workflow"
   ]
  }
 ],
 "metadata": {},
 "nbformat": 4,
 "nbformat_minor": 5
}
