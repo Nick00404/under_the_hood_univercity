{
 "cells": [
  {
   "cell_type": "markdown",
   "id": "d78b8a01",
   "metadata": {},
   "source": [
    "# 01 pandas intro"
   ]
  }
 ],
 "metadata": {},
 "nbformat": 4,
 "nbformat_minor": 5
}
