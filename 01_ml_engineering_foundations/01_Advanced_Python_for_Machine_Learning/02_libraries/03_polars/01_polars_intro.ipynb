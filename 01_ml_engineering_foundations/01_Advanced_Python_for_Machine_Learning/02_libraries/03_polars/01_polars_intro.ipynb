{
 "cells": [
  {
   "cell_type": "markdown",
   "id": "70bc0139",
   "metadata": {},
   "source": [
    "# 01 polars intro"
   ]
  }
 ],
 "metadata": {},
 "nbformat": 4,
 "nbformat_minor": 5
}
