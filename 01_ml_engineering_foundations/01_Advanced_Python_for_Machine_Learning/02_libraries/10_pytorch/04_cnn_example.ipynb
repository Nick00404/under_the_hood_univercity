{
 "cells": [
  {
   "cell_type": "markdown",
   "id": "679bc3f0",
   "metadata": {},
   "source": [
    "# 04 cnn example"
   ]
  }
 ],
 "metadata": {},
 "nbformat": 4,
 "nbformat_minor": 5
}
