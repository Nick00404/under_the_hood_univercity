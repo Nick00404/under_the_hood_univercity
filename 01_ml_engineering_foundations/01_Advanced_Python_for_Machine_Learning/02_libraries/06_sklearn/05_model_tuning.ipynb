{
 "cells": [
  {
   "cell_type": "markdown",
   "id": "9ecf46cf",
   "metadata": {},
   "source": [
    "# 05 model tuning"
   ]
  }
 ],
 "metadata": {},
 "nbformat": 4,
 "nbformat_minor": 5
}
