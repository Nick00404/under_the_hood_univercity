{
 "cells": [
  {
   "cell_type": "markdown",
   "id": "05afda2d",
   "metadata": {},
   "source": [
    "# 🧪 Welcome to the world of Jupyter Notebooks! \n",
    "\n",
    "---\n",
    "\n",
    "Jupyter Notebooks are a powerful tool for data analysis, machine learning, and documentation. \n",
    "\n",
    "They allow you to write and run code, visualize results, and add notes — all in one place.\n",
    "\n",
    "This guide is designed for beginners. I'll walk you through everything you need to get started.\n",
    "\n"
   ]
  },
  {
   "cell_type": "markdown",
   "id": "0b7e5f31",
   "metadata": {},
   "source": [
    "### 🚀 1. What is a Jupyter Notebook?\n",
    "\n",
    "---\n",
    "\n",
    "A Jupyter Notebook is an interactive computing environment where you can combine code execution, rich text, mathematics, plots, and more.\n",
    "\n",
    "It's widely used in data science, machine learning, and research.\n",
    "\n",
    "✅ Key Features:\n",
    "- Run code in small chunks (cells)\n",
    "- Add formatted notes using Markdown\n",
    "- View plots and charts inline\n",
    "- Easy to share and collaborate\n"
   ]
  },
  {
   "cell_type": "markdown",
   "id": "e83e85ab",
   "metadata": {},
   "source": [
    "### 🛠️ 2. How to Install Jupyter Notebook\n",
    "\n",
    "---\n",
    "You can install Jupyter using:\n",
    "\n",
    "**Option 1: Anaconda (Recommended)**\n",
    "1. Download Anaconda from: https://www.anaconda.com/products/distribution\n",
    "2. Install it and launch Jupyter from Anaconda Navigator\n",
    "\n",
    "**Option 2: pip (Python package manager)**\n",
    "```bash\n",
    "pip install notebook\n"
   ]
  },
  {
   "cell_type": "markdown",
   "id": "83ded75a",
   "metadata": {},
   "source": [
    "\n",
    "\n",
    "### 🧱 3. Cells: Code and Markdown\n",
    "---\n",
    "\n",
    "```markdown\n",
    "A Jupyter Notebook is made of **cells**.\n",
    "\n",
    "There are two main types:\n",
    "- 🧮 **Code Cells**: Where you write and run code\n",
    "- 📝 **Markdown Cells**: Where you write formatted text\n",
    "\n",
    "**To run a cell**: Press `Shift + Enter`\n",
    "\n",
    "✅ Tip: You can change the cell type from the dropdown menu in the toolbar (Code / Markdown)\n"
   ]
  },
  {
   "cell_type": "markdown",
   "id": "e2a7299b",
   "metadata": {},
   "source": [
    "### 🧪 5. Writing and Running Code\n",
    "---\n",
    "\n",
    "✅ Try running the below code by clicking on it and pressing `Shift + Enter`.\n"
   ]
  },
  {
   "cell_type": "code",
   "execution_count": 1,
   "id": "afa7d2bd",
   "metadata": {},
   "outputs": [
    {
     "name": "stdout",
     "output_type": "stream",
     "text": [
      "Hello, Jupyter!\n"
     ]
    }
   ],
   "source": [
    "# This is a simple Python code cell\n",
    "print(\"Hello, Jupyter!\")\n"
   ]
  },
  {
   "cell_type": "markdown",
   "id": "4fe8cefa",
   "metadata": {},
   "source": [
    "### 📘 6. Markdown Syntax\n",
    "\n",
    "---\n",
    "\n",
    "Use this table as a quick reference to write clean, expressive, and elegant documentation in your Jupyter notebooks.\n"
   ]
  },
  {
   "cell_type": "markdown",
   "id": "78ef501b",
   "metadata": {},
   "source": [
    "| **Component**     | **Syntax Example**                  | **Rendered Output**                          | **Usage Tips** ✨                             |\n",
    "|-------------------|-------------------------------------|----------------------------------------------|----------------------------------------------|\n",
    "| **Headers** 🎯     | `# H1` to `###### H6`               | # H1 <br> ## H2 <br> ### H3                  | Use 1–3 levels for clean structure.           |\n",
    "| **Bold Text** 🔥   | `**Bold**` or `__Bold__`            | **Bold**                                     | Emphasize keywords or section titles.         |\n",
    "| *Italic Text* 💡   | `*Italic*` or `_Italic_`            | *Italic*                                     | Subtle emphasis, citations, or notes.         |\n",
    "| `Code` 🧩          | `` `code` ``                        | `code`                                       | Highlight commands or function names.         |\n",
    "| [Link]() 🔗        | `[Text](https://example.com)`       | [Example](https://example.com)               | Keep it descriptive and relevant.             |\n",
    "| ![Image]() 🖼️      | `![Alt text](image.png)`            | *(Renders image)*                            | Always include alt text for clarity.          |\n",
    "| **Table** 📊       | `|`, `---`, and `:---:`             | *(Like this table!)*                         | Align left `:---`, center `:---:`, right `---:` |\n",
    "| **Lists** 📋       | `- item`, `* item`, or `1. item`     | - Bullet <br> 1. Numbered                    | Use bullets for unordered, numbers for steps. |\n",
    "| **Blockquote** 💬  | `> quoted text`                     | > quoted text                                | Great for notes, quotes, or highlights.       |\n",
    "| **Horizontal Rule** 🪄 | `---` or `***`                  | ---                                          | Use to separate major sections cleanly.       |\n",
    "| **Escaping Characters** | `\\*Not Italic\\*`                              | \\*Not Italic\\*                                  | Avoid unintended formatting. |\n",
    "| **Line Breaks**         | Line 1  `␣␣`  <br> Line 2 <br> or use `<br>`    | Line 1  <br> Line 2                              | `<br>` is more consistent than double space. |\n",
    "| **HTML Styling**        | `<span style=\"color:blue\">Blue</span>`         | <span style=\"color:blue\">Blue</span>            | Add color, size, or custom fonts. |\n",
    "| **Checkboxes** ✅        | `- [x] Done`<br>`- [ ] To do`                   | - [x] Done <br> - [ ] To do                     | Use for to-do lists in project notebooks. |\n",
    "| **Footnotes** 🦶        | `Here is a note[^1]`<br>`[^1]: Footnote text.`  | Adds a footnote[^1]                             | Great for citations or extra info. |\n",
    "| **Math (LaTeX)** 🧮      | `$E = mc^2$` or `$$a^2 + b^2 = c^2$$`           | \\( E = mc^2 \\) or centered block math           | Use in scientific/academic writing. |\n",
    "| **Emojis** 😄            | `:smile:` or `😄`                               | 😄                                               | Emojis add friendly vibes and clarity. |\n",
    "| **Collapsible Section** | `<details><summary>Click</summary>Hidden</details>` | <details><summary>Click</summary>Hidden</details> | Hide long sections, FAQs, or code. |\n"
   ]
  },
  {
   "cell_type": "markdown",
   "id": "ad1c1753",
   "metadata": {},
   "source": [
    "\n",
    "### 📊 7. Visualizing Data\n",
    "---\n",
    "\n",
    "✅ You can visualize plots and graphs inline using libraries like Matplotlib and Seaborn.\n"
   ]
  },
  {
   "cell_type": "code",
   "execution_count": 2,
   "id": "54c20bb9",
   "metadata": {},
   "outputs": [
    {
     "data": {
      "image/png": "[encoded data removed]",
      "text/plain": [
       "<Figure size 640x480 with 1 Axes>"
      ]
     },
     "metadata": {},
     "output_type": "display_data"
    }
   ],
   "source": [
    "import matplotlib.pyplot as plt\n",
    "\n",
    "x = [1, 2, 3, 4]\n",
    "y = [10, 20, 25, 30]\n",
    "\n",
    "plt.plot(x, y)\n",
    "plt.title(\"Sample Plot\")\n",
    "plt.show()\n"
   ]
  },
  {
   "cell_type": "markdown",
   "id": "a8cac10d",
   "metadata": {},
   "source": [
    "### 💾 8. Saving and Exporting Notebooks\n",
    "---\n",
    "\n",
    "- Your work is autosaved frequently.\n",
    "- You can manually save using `Ctrl + S`.\n",
    "- Export as PDF, HTML, or Python script via `File > Download As`."
   ]
  },
  {
   "cell_type": "markdown",
   "id": "ead79e20",
   "metadata": {},
   "source": [
    "### 🧹 9. Useful Shortcuts\n",
    "---\n",
    "\n",
    "- `Shift + Enter`: Run cell\n",
    "- `Ctrl + Enter`: Run cell (stay in same cell)\n",
    "- `A`: Insert cell **above**\n",
    "- `B`: Insert cell **below**\n",
    "- `M`: Change to Markdown\n",
    "- `Y`: Change to Code\n",
    "- `D D`: Delete cell (press D twice)\n",
    "\n"
   ]
  },
  {
   "cell_type": "markdown",
   "id": "24a2447b",
   "metadata": {},
   "source": [
    "### 🌐 10. Common Issues & Tips\n",
    "---\n",
    "\n",
    "- If kernel hangs: Click `Kernel > Restart`\n",
    "- Can't import a library? Install it using `!pip install package_name`\n",
    "- Use `%timeit` to time your code execution\n",
    "- Use `?function_name` to get help\n"
   ]
  },
  {
   "cell_type": "markdown",
   "id": "ed086305",
   "metadata": {},
   "source": [
    "### ✅ Summary\n",
    "You’ve now learned how to:\n",
    "- Install and launch Jupyter Notebook\n",
    "- Use code and markdown cells\n",
    "- Run Python code and visualize data\n",
    "- Save and share your notebooks\n",
    "\n",
    "Explore, experiment, and enjoy learning! 💡\n"
   ]
  }
 ],
 "metadata": {
  "kernelspec": {
   "display_name": "Python 3",
   "language": "python",
   "name": "python3"
  },
  "language_info": {
   "codemirror_mode": {
    "name": "ipython",
    "version": 3
   },
   "file_extension": ".py",
   "mimetype": "text/x-python",
   "name": "python",
   "nbconvert_exporter": "python",
   "pygments_lexer": "ipython3",
   "version": "3.12.3"
  }
 },
 "nbformat": 4,
 "nbformat_minor": 5
}
