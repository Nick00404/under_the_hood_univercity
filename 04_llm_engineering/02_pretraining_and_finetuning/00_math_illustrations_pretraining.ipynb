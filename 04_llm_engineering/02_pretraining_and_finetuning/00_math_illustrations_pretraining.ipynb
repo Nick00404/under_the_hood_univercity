{
 "cells": [
  {
   "cell_type": "markdown",
   "id": "ea2a8cb0",
   "metadata": {},
   "source": [
    "# 🧮 Math Illustrations Pretraining\n",
    "\n",
    "This notebook contains the mathematical background relevant to this module."
   ]
  },
  {
   "cell_type": "markdown",
   "id": "2241f603",
   "metadata": {},
   "source": [
    "## 📘 Table of Contents\n",
    "\n",
    "- [Loss Functions in Pretraining](#Loss-Functions-in-Pretraining)\n",
    "- [Gradient Accumulation](#Gradient-Accumulation)\n",
    "- [LoRA and Low-Rank Updates](#LoRA-and-Low-Rank-Updates)"
   ]
  },
  {
   "cell_type": "markdown",
   "id": "39f5920e",
   "metadata": {},
   "source": [
    "## 🏷️ Tags\n",
    "\n",
    "`math` `illustration` `foundations`"
   ]
  }
 ],
 "metadata": {},
 "nbformat": 4,
 "nbformat_minor": 5
}
