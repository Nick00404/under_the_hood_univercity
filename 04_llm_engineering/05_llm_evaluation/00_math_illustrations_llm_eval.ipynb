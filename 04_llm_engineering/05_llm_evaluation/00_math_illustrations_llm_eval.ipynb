{
 "cells": [
  {
   "cell_type": "markdown",
   "id": "37f7db03",
   "metadata": {},
   "source": [
    "# 🧮 Math Illustrations Llm Eval\n",
    "\n",
    "This notebook contains the mathematical background relevant to this module."
   ]
  },
  {
   "cell_type": "markdown",
   "id": "aa34417a",
   "metadata": {},
   "source": [
    "## 📘 Table of Contents\n",
    "\n",
    "- [BLEU, ROUGE, BERTScore Math](#BLEU,-ROUGE,-BERTScore-Math)\n",
    "- [Confidence Intervals](#Confidence-Intervals)\n",
    "- [Hypothesis Testing in Eval](#Hypothesis-Testing-in-Eval)"
   ]
  },
  {
   "cell_type": "markdown",
   "id": "40c336dc",
   "metadata": {},
   "source": [
    "## 🏷️ Tags\n",
    "\n",
    "`math` `illustration` `foundations`"
   ]
  }
 ],
 "metadata": {},
 "nbformat": 4,
 "nbformat_minor": 5
}
