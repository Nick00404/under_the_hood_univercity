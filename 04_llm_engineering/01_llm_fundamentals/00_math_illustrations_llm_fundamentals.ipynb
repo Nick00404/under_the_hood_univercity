{
 "cells": [
  {
   "cell_type": "markdown",
   "id": "7a7dfef3",
   "metadata": {},
   "source": [
    "# 🧮 Math Illustrations Llm Fundamentals\n",
    "\n",
    "This notebook contains the mathematical background relevant to this module."
   ]
  },
  {
   "cell_type": "markdown",
   "id": "7449f487",
   "metadata": {},
   "source": [
    "## 📘 Table of Contents\n",
    "\n",
    "- [Transformer Forward Pass](#Transformer-Forward-Pass)\n",
    "- [Attention Score & Softmax](#Attention-Score-&-Softmax)\n",
    "- [Positional Encoding (Sin/Cos)](#Positional-Encoding-(SinCos))\n",
    "- [Tokenization and BPE Merge Math](#Tokenization-and-BPE-Merge-Math)"
   ]
  },
  {
   "cell_type": "markdown",
   "id": "5f76c073",
   "metadata": {},
   "source": [
    "## 🏷️ Tags\n",
    "\n",
    "`math` `illustration` `foundations`"
   ]
  }
 ],
 "metadata": {},
 "nbformat": 4,
 "nbformat_minor": 5
}
