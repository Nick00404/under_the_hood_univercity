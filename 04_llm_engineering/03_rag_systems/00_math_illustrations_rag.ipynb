{
 "cells": [
  {
   "cell_type": "markdown",
   "id": "779136ba",
   "metadata": {},
   "source": [
    "# 🧮 Math Illustrations Rag\n",
    "\n",
    "This notebook contains the mathematical background relevant to this module."
   ]
  },
  {
   "cell_type": "markdown",
   "id": "3e2b35db",
   "metadata": {},
   "source": [
    "## 📘 Table of Contents\n",
    "\n",
    "- [Cosine Similarity](#Cosine-Similarity)\n",
    "- [Vector Distance Metrics](#Vector-Distance-Metrics)\n",
    "- [Embedding Search Logic](#Embedding-Search-Logic)"
   ]
  },
  {
   "cell_type": "markdown",
   "id": "11a6a487",
   "metadata": {},
   "source": [
    "## 🏷️ Tags\n",
    "\n",
    "`math` `illustration` `foundations`"
   ]
  }
 ],
 "metadata": {},
 "nbformat": 4,
 "nbformat_minor": 5
}
