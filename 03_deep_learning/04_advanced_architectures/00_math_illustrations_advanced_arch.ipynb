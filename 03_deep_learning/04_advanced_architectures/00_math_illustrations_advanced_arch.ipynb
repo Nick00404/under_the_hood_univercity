{
 "cells": [
  {
   "cell_type": "markdown",
   "id": "e2d2328d",
   "metadata": {},
   "source": [
    "# 🧮 Math Illustrations Advanced Arch\n",
    "\n",
    "This notebook contains the mathematical background relevant to this module."
   ]
  },
  {
   "cell_type": "markdown",
   "id": "496a34f7",
   "metadata": {},
   "source": [
    "## 📘 Table of Contents\n",
    "\n",
    "- [GNN Message Passing](#GNN-Message-Passing)\n",
    "- [MAML Inner/Outer Loop](#MAML-InnerOuter-Loop)\n",
    "- [MLP Mixer Feedforward Math](#MLP-Mixer-Feedforward-Math)\n",
    "- [Surrogate Gradient Theory](#Surrogate-Gradient-Theory)\n",
    "- [Diffusion Process Equations](#Diffusion-Process-Equations)"
   ]
  },
  {
   "cell_type": "markdown",
   "id": "e69ac209",
   "metadata": {},
   "source": [
    "## 🏷️ Tags\n",
    "\n",
    "`math` `illustration` `foundations`"
   ]
  }
 ],
 "metadata": {},
 "nbformat": 4,
 "nbformat_minor": 5
}
