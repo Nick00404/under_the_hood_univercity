{
 "cells": [
  {
   "cell_type": "markdown",
   "id": "c1400445",
   "metadata": {},
   "source": [
    "# 🧮 Math Illustrations Deployment\n",
    "\n",
    "This notebook contains the mathematical background relevant to this module."
   ]
  },
  {
   "cell_type": "markdown",
   "id": "6651af4c",
   "metadata": {},
   "source": [
    "## 📘 Table of Contents\n",
    "\n",
    "- [FP16, INT8 Math](#FP16,-INT8-Math)\n",
    "- [Throughput & Batching](#Throughput-&-Batching)\n",
    "- [Latency Calculations](#Latency-Calculations)"
   ]
  },
  {
   "cell_type": "markdown",
   "id": "01f4f307",
   "metadata": {},
   "source": [
    "## 🏷️ Tags\n",
    "\n",
    "`math` `illustration` `foundations`"
   ]
  }
 ],
 "metadata": {},
 "nbformat": 4,
 "nbformat_minor": 5
}
