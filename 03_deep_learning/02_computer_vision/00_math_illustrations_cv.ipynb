{
 "cells": [
  {
   "cell_type": "markdown",
   "id": "5ead260e",
   "metadata": {},
   "source": [
    "# 🧮 Math Illustrations Cv\n",
    "\n",
    "This notebook contains the mathematical background relevant to this module."
   ]
  },
  {
   "cell_type": "markdown",
   "id": "daa16146",
   "metadata": {},
   "source": [
    "## 📘 Table of Contents\n",
    "\n",
    "- [Convolution and Feature Maps](#Convolution-and-Feature-Maps)\n",
    "- [Stride, Padding, Kernel Size](#Stride,-Padding,-Kernel-Size)\n",
    "- [IoU and NMS Formulas](#IoU-and-NMS-Formulas)\n",
    "- [Dice Loss & Cross-Entropy](#Dice-Loss-&-Cross-Entropy)\n",
    "- [Feature Scaling and Normalization](#Feature-Scaling-and-Normalization)"
   ]
  },
  {
   "cell_type": "markdown",
   "id": "fefe5440",
   "metadata": {},
   "source": [
    "## 🏷️ Tags\n",
    "\n",
    "`math` `illustration` `foundations`"
   ]
  }
 ],
 "metadata": {},
 "nbformat": 4,
 "nbformat_minor": 5
}
