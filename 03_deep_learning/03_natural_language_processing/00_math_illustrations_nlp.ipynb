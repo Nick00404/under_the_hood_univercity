{
 "cells": [
  {
   "cell_type": "markdown",
   "id": "07e3156a",
   "metadata": {},
   "source": [
    "# 🧮 Math Illustrations Nlp\n",
    "\n",
    "This notebook contains the mathematical background relevant to this module."
   ]
  },
  {
   "cell_type": "markdown",
   "id": "a812af57",
   "metadata": {},
   "source": [
    "## 📘 Table of Contents\n",
    "\n",
    "- [Embedding Similarities](#Embedding-Similarities)\n",
    "- [RNN and LSTM Updates](#RNN-and-LSTM-Updates)\n",
    "- [Attention Mechanism Math](#Attention-Mechanism-Math)\n",
    "- [Softmax & Logits](#Softmax-&-Logits)\n",
    "- [Masked Language Loss](#Masked-Language-Loss)"
   ]
  },
  {
   "cell_type": "markdown",
   "id": "f0f7de2a",
   "metadata": {},
   "source": [
    "## 🏷️ Tags\n",
    "\n",
    "`math` `illustration` `foundations`"
   ]
  }
 ],
 "metadata": {},
 "nbformat": 4,
 "nbformat_minor": 5
}
