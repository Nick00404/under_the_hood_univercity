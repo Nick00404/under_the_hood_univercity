{
 "cells": [
  {
   "cell_type": "markdown",
   "id": "541d37d1",
   "metadata": {},
   "source": [
    "# 🧮 Math Illustrations Optimization\n",
    "\n",
    "This notebook contains the mathematical background relevant to this module."
   ]
  },
  {
   "cell_type": "markdown",
   "id": "202d9150",
   "metadata": {},
   "source": [
    "## 📘 Table of Contents\n",
    "\n",
    "- [Quantization Scaling](#Quantization-Scaling)\n",
    "- [Sparsity and Pruning Math](#Sparsity-and-Pruning-Math)\n",
    "- [KL Divergence in Distillation](#KL-Divergence-in-Distillation)\n",
    "- [Mixed-Precision Scaling](#Mixed-Precision-Scaling)"
   ]
  },
  {
   "cell_type": "markdown",
   "id": "3162d824",
   "metadata": {},
   "source": [
    "## 🏷️ Tags\n",
    "\n",
    "`math` `illustration` `foundations`"
   ]
  }
 ],
 "metadata": {},
 "nbformat": 4,
 "nbformat_minor": 5
}
