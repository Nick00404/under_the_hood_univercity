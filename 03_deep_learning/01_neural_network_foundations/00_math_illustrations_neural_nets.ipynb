{
 "cells": [
  {
   "cell_type": "markdown",
   "id": "49746f0d",
   "metadata": {},
   "source": [
    "# 🧮 Math Illustrations Neural Nets\n",
    "\n",
    "This notebook contains the mathematical background relevant to this module."
   ]
  },
  {
   "cell_type": "markdown",
   "id": "fb14e936",
   "metadata": {},
   "source": [
    "## 📘 Table of Contents\n",
    "\n",
    "- [Chain Rule and Backpropagation](#Chain-Rule-and-Backpropagation)\n",
    "- [Gradient of MSE and Cross-Entropy](#Gradient-of-MSE-and-Cross-Entropy)\n",
    "- [Activation Function Derivatives](#Activation-Function-Derivatives)\n",
    "- [Jacobian and Autograd Logic](#Jacobian-and-Autograd-Logic)\n",
    "- [Vanishing/Exploding Gradients](#VanishingExploding-Gradients)"
   ]
  },
  {
   "cell_type": "markdown",
   "id": "b40cc727",
   "metadata": {},
   "source": [
    "## 🏷️ Tags\n",
    "\n",
    "`math` `illustration` `foundations`"
   ]
  }
 ],
 "metadata": {},
 "nbformat": 4,
 "nbformat_minor": 5
}
